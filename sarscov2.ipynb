{
 "cells": [
  {
   "cell_type": "code",
   "execution_count": 180,
   "metadata": {},
   "outputs": [
    {
     "name": "stdout",
     "output_type": "stream",
     "text": [
      "Length of Sars-Cov-1 Genome: 29751\n",
      "Length of Sars-Cov-2 Genome: 29751\n"
     ]
    }
   ],
   "source": [
    "# Import Sequences\n",
    "\n",
    "from Bio.Seq import Seq\n",
    "from Bio import SeqIO\n",
    "\n",
    "sc1g = SeqIO.read('data/sars_cov_1_genome.fasta', 'fasta')\n",
    "sc2g = SeqIO.read('data/sars_cov_2_genome.fasta', 'fasta')\n",
    "\n",
    "print('Length of Sars-Cov-1 Genome: {}'.format(len(sc1g)))\n",
    "print('Length of Sars-Cov-2 Genome: {}'.format(len(sc1g)))"
   ]
  },
  {
   "cell_type": "code",
   "execution_count": 181,
   "metadata": {},
   "outputs": [],
   "source": [
    "# Some Library code for Analysis\n",
    "\n",
    "import os\n",
    "import matplotlib.pyplot as plt\n",
    "import numpy as np\n",
    "from Bio import pairwise2\n",
    "from Bio import SeqIO\n",
    "from Bio.Align import substitution_matrices\n",
    "\n",
    "def seqsim(alignfile):\n",
    "    blosum62 = substitution_matrices.load(\"BLOSUM62\")\n",
    "\n",
    "    # basedir = '/Users/davidwang/projects/sarscov2/data'\n",
    "    # seq1 = SeqIO.read('{}/sars_cov_2_e_prot.fasta'.format(basedir), 'fasta')\n",
    "    # seq2 = SeqIO.read('{}/mers_cov_e_prot.fasta'.format(basedir), 'fasta')\n",
    "    # aligns = pairwise2.align.globalds(seq1.seq, seq2.seq, blosum62, -10, -0.5)\n",
    "\n",
    "    # Read in Sequences Aligned by MAFFT\n",
    "    aligndata = open(alignfile).read()\n",
    "    seqs = aligndata.split('>')\n",
    "    seq1 = ''.join(seqs[1].split('\\n')[1:])\n",
    "    seq2 = ''.join(seqs[2].split('\\n')[1:])\n",
    "    \n",
    "    return {\n",
    "        'seq1': seq1,\n",
    "        'seq2': seq2,\n",
    "        'similarity': similarity_score(seq1, seq2),\n",
    "    }\n",
    "\n",
    "def cdna_to_rna(dna):\n",
    "    return str(dna).replace('T', 'U')\n",
    "\n",
    "def similarity_score(ref, seq):\n",
    "    similar = 0\n",
    "    \n",
    "    for i in range(len(ref)):\n",
    "        if ref[i] == seq[i]:\n",
    "            similar += 1\n",
    "\n",
    "    return similar / len(ref)\n",
    "\n",
    "def plot_protein_sim(data):\n",
    "    width = 0.25\n",
    "    fig = plt.figure()\n",
    "    ax = fig.add_axes([0,0,1,1])\n",
    "    proteins = ['E Protein', 'M Protein', 'N Protein', 'S Protein']\n",
    "    locs = np.arange(len(data[0]))\n",
    "    \n",
    "    ax.set_ylabel('% Sequence  Similarity')\n",
    "    ax.set_title('Sequence Similarity to Sars-Cov-2')\n",
    "    \n",
    "    plt.bar(locs, data[0], color='g', width=width, label=proteins[0])\n",
    "    plt.bar(locs+width, data[1], color='b', width=width, label=proteins[0])\n",
    "    plt.xticks(range(len(proteins)), proteins)\n",
    "    plt.yticks(np.arange(0, 101, 10))\n",
    "    ax.legend(labels=['Mers-Cov 2012', 'Sars-Cov 2004'])\n",
    "    \n",
    "    plt.show()"
   ]
  },
  {
   "cell_type": "code",
   "execution_count": 183,
   "metadata": {},
   "outputs": [
    {
     "name": "stdout",
     "output_type": "stream",
     "text": [
      "sars_cov_2_mers_cov_e_prot.ali Protein Length: 82 Similarity: 35.4%\n",
      "sars_cov_2_mers_cov_m_prot.ali Protein Length: 223 Similarity: 40.4%\n",
      "sars_cov_2_mers_cov_n_prot.ali Protein Length: 450 Similarity: 45.8%\n",
      "sars_cov_2_mers_cov_s_prot.ali Protein Length: 1451 Similarity: 30.5%\n",
      "sars_cov_2_sars_cov_1_e_prot.ali Protein Length: 76 Similarity: 94.7%\n",
      "sars_cov_2_sars_cov_1_m_prot.ali Protein Length: 222 Similarity: 90.5%\n",
      "sars_cov_2_sars_cov_1_n_prot.ali Protein Length: 422 Similarity: 90.5%\n",
      "sars_cov_2_sars_cov_1_s_prot.ali Protein Length: 1277 Similarity: 76.0%\n"
     ]
    }
   ],
   "source": [
    "# Calculate Protein Sequence Similarity Between Sars-Cov, Sars-Cov2, and Mers-Cov\n",
    "\n",
    "proteins = ['e', 'm', 'n', 's']\n",
    "sim_results = [[], []]\n",
    "\n",
    "basedir = '/Users/davidwang/projects/sarscov2/data'\n",
    "for p in proteins:\n",
    "    alignfile = '{}/sars_cov_2_mers_cov_{}_prot.ali'.format(basedir, p)\n",
    "    result = seqsim(alignfile)\n",
    "    sim_results[0].append(result['similarity']*100)\n",
    "\n",
    "    basename = os.path.basename(alignfile)\n",
    "    print('{} Protein Length: {} Similarity: {:.1f}%'.format(basename, len(result['seq1']), result['similarity']*100))\n",
    "    \n",
    "for p in proteins:\n",
    "    alignfile = '{}/sars_cov_2_sars_cov_1_{}_prot.ali'.format(basedir, p)\n",
    "    result = seqsim(alignfile)\n",
    "    sim_results[1].append(result['similarity']*100)\n",
    "    \n",
    "    basename = os.path.basename(alignfile)\n",
    "    print('{} Protein Length: {} Similarity: {:.1f}%'.format(basename, len(result['seq1']), result['similarity']*100))"
   ]
  },
  {
   "cell_type": "code",
   "execution_count": 184,
   "metadata": {},
   "outputs": [
    {
     "data": {
      "image/png": "[encoded data removed]",
      "text/plain": [
       "<Figure size 432x288 with 1 Axes>"
      ]
     },
     "metadata": {
      "needs_background": "light"
     },
     "output_type": "display_data"
    }
   ],
   "source": [
    "# Plot Protein Sequence Similarity Between Sars-Cov, Sars-Cov2, and Mers-Cov\n",
    "plot_protein_sim(sim_results)"
   ]
  },
  {
   "cell_type": "code",
   "execution_count": 187,
   "metadata": {},
   "outputs": [],
   "source": [
    "import pandas as pd\n",
    "\n",
    "df = pd.read_csv('data/200938383919-sars_cov_vipr_epitopes.tsv', sep='\\t')"
   ]
  },
  {
   "cell_type": "code",
   "execution_count": 279,
   "metadata": {},
   "outputs": [],
   "source": [
    "# ViPR Epitope Analysis\n",
    "\n",
    "# https://www.ncbi.nlm.nih.gov/pmc/articles/PMC7150947/\n",
    "\n",
    "# Total Number of Epitopes 1394\n",
    "# Positive T cell assays                                         | T cell epitopes              | 115\n",
    "# Positive major histocompatibility complex (MHC) binding assays | T cell epitopes              | 959\n",
    "# Positive B cell assays                                         | Linear B cell epitopes       | 298\n",
    "#                                                                | Discontinuous B cell epitopes| 6\n",
    "# ----------------------------------------------------------------------------------------------------\n",
    "#                                                                | Total                        |1378\n",
    "\n",
    "# Selection Criteria\n",
    "# 1. human hosts.\n",
    "# 2. Only experimentally-determined epitopes associated with at least one positive assay.\n",
    "# 3. Positive B cell assays (e.g., enzyme-linked immunosorbent assay (ELISA)-based qualitative binding) for B cell epitopes.\n",
    "# 4. Positive T cell assays \n",
    "#      - enzyme-linked immune absorbent spot (ELISPOT)\n",
    "#      - Intracellular cytokine staining (ICS) IFN-γ release)\n",
    "#      - Positive major histocompatibility complex (MHC) binding assays for T cell epitopes.\n",
    "\n",
    "assay_dict = {\n",
    "    'B Cell': 0,\n",
    "    'T Cell': 0,\n",
    "    'MHC Binding' : 0,\n",
    "}\n",
    "\n",
    "epitopes = []\n",
    "for row in df.itertuples():\n",
    "    human_indicies = [i for i, x in enumerate(row[4].split(',')) if x == 'Human'] # Hosts\n",
    "    assay_types = row[5].split(',') # Assay Types\n",
    "    results = row[6].split(',') # Assay Results ['Positive', 'Negative', etc]\n",
    "    methods = row[9].split(',') # Methods\n",
    "    positive_indicies = [i for i in human_indicies if 'Positive' in results[i]]\n",
    "    at_least_one_positive = len(positive_indicies) > 0\n",
    "    \n",
    "    for i in human_indicies:\n",
    "        if not at_least_one_positive:\n",
    "            continue\n",
    "            \n",
    "        if assay_types[i] == 'B Cell' and methods[i] == 'ELISA':\n",
    "            assay_dict[assay_types[i]] += 1\n",
    "            break\n",
    "  \n",
    "        if assay_types[i] in ['T Cell', 'MHC Binding'] and methods[i] in [\n",
    "             'ELISPOT',\n",
    "             'ICS',\n",
    "             'cellular MHC/competitive/fluorescence',\n",
    "             'cellular MHC/direct/fluorescence',\n",
    "             'purified MHC',\n",
    "             'purified MHC/competitive/fluorescence',\n",
    "             'purified MHC/competitive/radioactivity',\n",
    "             'purified MHC/direct/fluorescence',\n",
    "             'purified MHC/direct/radioactivity',\n",
    "        ]:\n",
    "            assay_dict[assay_types[i]] += 1\n",
    "            break\n",
    "            \n",
    "assay_dict"
   ]
  },
  {
   "cell_type": "code",
   "execution_count": 280,
   "metadata": {},
   "outputs": [
    {
     "data": {
      "text/plain": [
       "{'B Cell': 268, 'T Cell': 27, 'MHC Binding': 959}"
      ]
     },
     "execution_count": 280,
     "metadata": {},
     "output_type": "execute_result"
    }
   ],
   "source": []
  },
  {
   "cell_type": "code",
   "execution_count": 1,
   "metadata": {},
   "outputs": [],
   "source": [
    "seq_ids = [\n",
    " 'YP_005352862.1',\n",
    " 'AMN91620.1',\n",
    " 'YP_002308478.1',\n",
    " 'P0C6Y5.1',\n",
    " 'APD51497.1',\n",
    " 'AVA26872.1',\n",
    " 'AKJ21970.1',\n",
    " 'YP_001718610.1',\n",
    " 'AHB63507.1',\n",
    " 'AAS00078.1',\n",
    " 'ACV87277.1',\n",
    " 'YP_009555238.1',\n",
    " 'YP_209229.2',\n",
    " 'ARB07596.1',\n",
    " 'ATG84853.1',\n",
    " 'ABN10847.1',\n",
    " 'AAP33696.1',\n",
    " 'AVP25405.1',\n",
    "]"
   ]
  },
  {
   "cell_type": "code",
   "execution_count": 2,
   "metadata": {},
   "outputs": [],
   "source": [
    "from Bio import Entrez\n",
    "from Bio import SeqIO\n",
    "Entrez.email = 'something@something.com'\n",
    "\n",
    "seqs = {}\n",
    "for s_id in seq_ids:\n",
    "    handle = Entrez.efetch(db='protein', id=s_id, rettype='gb', retmode='text')\n",
    "    seq = SeqIO.read(handle, 'genbank')\n",
    "    seqs[s_id] = seq"
   ]
  },
  {
   "cell_type": "code",
   "execution_count": 155,
   "metadata": {},
   "outputs": [
    {
     "data": {
      "text/plain": [
       "18"
      ]
     },
     "execution_count": 155,
     "metadata": {},
     "output_type": "execute_result"
    }
   ],
   "source": [
    "SeqIO.write(seqs, 'all.faa', 'fasta')"
   ]
  },
  {
   "cell_type": "code",
   "execution_count": 181,
   "metadata": {},
   "outputs": [],
   "source": [
    "with open('clustalo.clustal_num') as f:\n",
    "    data = f.readlines()"
   ]
  },
  {
   "cell_type": "code",
   "execution_count": 186,
   "metadata": {},
   "outputs": [
    {
     "data": {
      "text/plain": [
       "239485"
      ]
     },
     "execution_count": 186,
     "metadata": {},
     "output_type": "execute_result"
    }
   ],
   "source": [
    "\"\"\"\n",
    "Got the following error when using consurf:\n",
    "\n",
    "\"The uploaded MSA file, which appears to be in clustalw format, contains non-standard characters: \"J\". \n",
    "To fix the format please replace all non-standard characters with standard characters\n",
    "(gaps : \"-\" Amino Acids : \"A\" , \"C\" , \"D\" .. \"Y\") and resubmit your query.\"\n",
    "\n",
    "This is because we have a 'J' amino acid in on line 998 in our clustalo.clustal_num multi alignment file\n",
    "\n",
    "'ATG84853.1          GTPNEKLVTTSTAPDFVAFNVFQGIETAVGHYVHARLKGGJILKFDSGTVSKTSDWKCKV\t1788' \n",
    "\n",
    "Apparently a 'J' is supposed to indicate either 'I' or 'L'.\n",
    "We will replace with an 'L' in this case because ABN10847.1 and AVP25405.1 have 'L's in that position\n",
    "which is the majority.\n",
    "\"\"\"\n",
    "\n",
    "# Replace ambiguous amino acids with the majority e.g. J -> L because J can be either I or L.\n",
    "# def replace_ambiguous_aa(rows):\n",
    "#     for i, r in enumerate(rows):\n",
    "#         cols = r.split()\n",
    "#         align = cols[1] if len(cols) > 2 else ''\n",
    "#         if 'J' in align:\n",
    "#             row = cols[1].replace('J', 'L')\n",
    "            \n",
    "# replace_ambiguous_aa(data)\n",
    "# open('clustalo_unique_aa.clustal_num', 'w').write(''.join(data))"
   ]
  },
  {
   "cell_type": "code",
   "execution_count": 284,
   "metadata": {},
   "outputs": [
    {
     "name": "stdout",
     "output_type": "stream",
     "text": [
      "['EPI_ISL_402123', 'EPI_ISL_406798', 'EPI_ISL_402119', 'EPI_ISL_402128', 'EPI_ISL_402129', 'EPI_ISL_402130', 'EPI_ISL_403930', 'EPI_ISL_402121', 'EPI_ISL_402132', 'EPI_ISL_412898', 'EPI_ISL_412899', 'EPI_ISL_402124', 'EPI_ISL_403931', 'EPI_ISL_403929', 'EPI_ISL_402127', 'EPI_ISL_402125', 'EPI_ISL_402120', 'EPI_ISL_406800', 'EPI_ISL_408514', 'EPI_ISL_408515', 'EPI_ISL_403928', 'EPI_ISL_406716', 'EPI_ISL_406717', 'EPI_ISL_406801', 'EPI_ISL_411957', 'EPI_ISL_412459', 'EPI_ISL_403962', 'EPI_ISL_406030', 'EPI_ISL_405839', 'EPI_ISL_408486', 'EPI_ISL_410301', 'EPI_ISL_406593', 'EPI_ISL_403963', 'EPI_ISL_403932', 'EPI_ISL_403933', 'EPI_ISL_403934', 'EPI_ISL_403935', 'EPI_ISL_408484', 'EPI_ISL_404227', 'EPI_ISL_406594', 'EPI_ISL_406595', 'EPI_ISL_403936', 'EPI_ISL_404228', 'EPI_ISL_404228', 'EPI_ISL_412978', 'EPI_ISL_408480', 'EPI_ISL_403937', 'EPI_ISL_412979', 'EPI_ISL_412980', 'EPI_ISL_412981', 'EPI_ISL_408481', 'EPI_ISL_408485', 'EPI_ISL_404895', 'EPI_ISL_407313', 'EPI_ISL_408482', 'EPI_ISL_408488', 'EPI_ISL_406970', 'EPI_ISL_411060', 'EPI_ISL_408478', 'EPI_ISL_411066', 'EPI_ISL_412028', 'EPI_ISL_406036', 'EPI_ISL_406223', 'EPI_ISL_406531', 'EPI_ISL_406533', 'EPI_ISL_406534', 'EPI_ISL_406535', 'EPI_ISL_406536', 'EPI_ISL_410532', 'EPI_ISL_410720', 'EPI_ISL_411950', 'EPI_ISL_413015', 'EPI_ISL_406034', 'EPI_ISL_406538', 'EPI_ISL_406597', 'EPI_ISL_406596', 'EPI_ISL_406973', 'EPI_ISL_406031', 'EPI_ISL_408479', 'EPI_ISL_411926', 'EPI_ISL_411953', 'EPI_ISL_411952', 'EPI_ISL_408668', 'EPI_ISL_407893', 'EPI_ISL_410531', 'EPI_ISL_407215', 'EPI_ISL_411915', 'EPI_ISL_407193', 'EPI_ISL_413014', 'EPI_ISL_406844', 'EPI_ISL_407214', 'EPI_ISL_407987', 'EPI_ISL_407084', 'EPI_ISL_408977', 'EPI_ISL_410713', 'EPI_ISL_411902', 'EPI_ISL_410044', 'EPI_ISL_407894', 'EPI_ISL_411219', 'EPI_ISL_411220', 'EPI_ISL_411927', 'EPI_ISL_406862', 'EPI_ISL_410045', 'EPI_ISL_410545', 'EPI_ISL_410984', 'EPI_ISL_412967', 'EPI_ISL_412974', 'EPI_ISL_407073', 'EPI_ISL_407071', 'EPI_ISL_408010', 'EPI_ISL_408009', 'EPI_ISL_408008', 'EPI_ISL_408430', 'EPI_ISL_408431', 'EPI_ISL_408665', 'EPI_ISL_408669', 'EPI_ISL_409067', 'EPI_ISL_407896', 'EPI_ISL_412029', 'EPI_ISL_412869', 'EPI_ISL_412870', 'EPI_ISL_410546', 'EPI_ISL_412871', 'EPI_ISL_408666', 'EPI_ISL_408667', 'EPI_ISL_408670', 'EPI_ISL_412030', 'EPI_ISL_412872', 'EPI_ISL_407988', 'EPI_ISL_410719', 'EPI_ISL_411218', 'EPI_ISL_410714', 'EPI_ISL_407976', 'EPI_ISL_410716', 'EPI_ISL_410715', 'EPI_ISL_410717', 'EPI_ISL_410718', 'EPI_ISL_412966', 'EPI_ISL_410218', 'EPI_ISL_410536', 'EPI_ISL_411954', 'EPI_ISL_412873', 'EPI_ISL_411951', 'EPI_ISL_412982', 'EPI_ISL_410537', 'EPI_ISL_412116', 'EPI_ISL_412116', 'EPI_ISL_411955', 'EPI_ISL_412968', 'EPI_ISL_412969', 'EPI_ISL_411956', 'EPI_ISL_412973', 'EPI_ISL_412026', 'EPI_ISL_412862', 'EPI_ISL_412970', 'EPI_ISL_412912', 'EPI_ISL_412972', 'EPI_ISL_412975', 'EPI_ISL_413016', 'EPI_ISL_411929']\n"
     ]
    }
   ],
   "source": [
    "'''\n",
    "Get Accession IDs for Sars-Cov-2 Genomes https://www.pnas.org/content/117/17/9241?cct=2302\n",
    "Paper: Phylogenetic network analysis of SARS-CoV-2 genomes\n",
    "'''\n",
    "\n",
    "import csv\n",
    "\n",
    "ids = []\n",
    "with open('data/other/forster/2b Cluster assignments-Table 1.csv') as file:\n",
    "    reader = csv.reader(file)\n",
    "    \n",
    "    for i, row in enumerate(reader):\n",
    "        if i > 3:\n",
    "            ids.append(row[3])\n",
    "            \n",
    "print(ids)"
   ]
  }
 ],
 "metadata": {
  "kernelspec": {
   "display_name": "Python 3",
   "language": "python",
   "name": "python3"
  },
  "language_info": {
   "codemirror_mode": {
    "name": "ipython",
    "version": 3
   },
   "file_extension": ".py",
   "mimetype": "text/x-python",
   "name": "python",
   "nbconvert_exporter": "python",
   "pygments_lexer": "ipython3",
   "version": "3.7.7"
  }
 },
 "nbformat": 4,
 "nbformat_minor": 4
}
