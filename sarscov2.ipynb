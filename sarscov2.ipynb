{
 "cells": [
  {
   "cell_type": "code",
   "execution_count": 10,
   "metadata": {},
   "outputs": [],
   "source": [
    "from Bio.Seq import Seq\n",
    "from Bio import SeqIO"
   ]
  },
  {
   "cell_type": "code",
   "execution_count": 11,
   "metadata": {},
   "outputs": [
    {
     "name": "stdout",
     "output_type": "stream",
     "text": [
      "Length of Sars-Cov-1 Genome: 29751\n",
      "Length of Sars-Cov-2 Genome: 29751\n"
     ]
    }
   ],
   "source": [
    "sc1g = SeqIO.read('data/sars_cov_1_genome.fasta', 'fasta')\n",
    "sc2g = SeqIO.read('data/sars_cov_2_genome.fasta', 'fasta')\n",
    "\n",
    "print('Length of Sars-Cov-1 Genome: {}'.format(len(sc1g)))\n",
    "print('Length of Sars-Cov-2 Genome: {}'.format(len(sc1g)))"
   ]
  },
  {
   "cell_type": "code",
   "execution_count": 12,
   "metadata": {},
   "outputs": [],
   "source": [
    "import os\n",
    "from Bio import pairwise2\n",
    "from Bio import SeqIO\n",
    "from Bio.Align import substitution_matrices\n",
    "\n",
    "def seqsim(alignfile):\n",
    "    blosum62 = substitution_matrices.load(\"BLOSUM62\")\n",
    "\n",
    "    # basedir = '/Users/davidwang/projects/sarscov2/data'\n",
    "    # seq1 = SeqIO.read('{}/sars_cov_2_e_prot.fasta'.format(basedir), 'fasta')\n",
    "    # seq2 = SeqIO.read('{}/mers_cov_e_prot.fasta'.format(basedir), 'fasta')\n",
    "    # aligns = pairwise2.align.globalds(seq1.seq, seq2.seq, blosum62, -10, -0.5)\n",
    "\n",
    "    # Read in Sequences Aligned by MAFFT\n",
    "    aligndata = open(alignfile).read()\n",
    "    seqs = aligndata.split('>')\n",
    "    seq1 = ''.join(seqs[1].split('\\n')[1:])\n",
    "    seq2 = ''.join(seqs[2].split('\\n')[1:])\n",
    "    \n",
    "    return {\n",
    "        'seq1': seq1,\n",
    "        'seq2': seq2,\n",
    "        'similarity': similarity_score(seq1, seq2),\n",
    "    }\n",
    "\n",
    "def cdna_to_rna(dna):\n",
    "    return str(dna).replace('T', 'U')\n",
    "\n",
    "def similarity_score(ref, seq):\n",
    "    similar = 0\n",
    "    \n",
    "    for i in range(len(ref)):\n",
    "        if ref[i] == seq[i]:\n",
    "            similar += 1\n",
    "\n",
    "    return similar / len(ref)"
   ]
  },
  {
   "cell_type": "code",
   "execution_count": 27,
   "metadata": {},
   "outputs": [],
   "source": [
    "import matplotlib.pyplot as plt\n",
    "import numpy as np\n",
    "\n",
    "def plot_protein_sim(data):\n",
    "    width = 0.25\n",
    "    fig = plt.figure()\n",
    "    ax = fig.add_axes([0,0,1,1])\n",
    "    proteins = ['E Protein', 'M Protein', 'N Protein', 'S Protein']\n",
    "    locs = np.arange(len(data[0]))\n",
    "    \n",
    "    ax.set_ylabel('% Sequence  Similarity')\n",
    "    ax.set_title('Sequence Similarity to Sars-Cov-2')\n",
    "    \n",
    "    plt.bar(locs, data[0], color='g', width=width, label=proteins[0])\n",
    "    plt.bar(locs+width, data[1], color='b', width=width, label=proteins[0])\n",
    "    plt.xticks(range(len(proteins)), proteins)\n",
    "    plt.yticks(np.arange(0, 101, 10))\n",
    "    ax.legend(labels=['Mers-Cov 2012', 'Sars-Cov 2004'])\n",
    "    \n",
    "    plt.show()"
   ]
  },
  {
   "cell_type": "code",
   "execution_count": 28,
   "metadata": {},
   "outputs": [
    {
     "name": "stdout",
     "output_type": "stream",
     "text": [
      "sars_cov_2_mers_cov_e_prot.ali Protein Length: 82 Similarity: 35.4%\n",
      "sars_cov_2_mers_cov_m_prot.ali Protein Length: 223 Similarity: 40.4%\n",
      "sars_cov_2_mers_cov_n_prot.ali Protein Length: 450 Similarity: 45.8%\n",
      "sars_cov_2_mers_cov_s_prot.ali Protein Length: 1451 Similarity: 30.5%\n",
      "sars_cov_2_sars_cov_1_e_prot.ali Protein Length: 76 Similarity: 94.7%\n",
      "sars_cov_2_sars_cov_1_m_prot.ali Protein Length: 222 Similarity: 90.5%\n",
      "sars_cov_2_sars_cov_1_n_prot.ali Protein Length: 422 Similarity: 90.5%\n",
      "sars_cov_2_sars_cov_1_s_prot.ali Protein Length: 1277 Similarity: 76.0%\n"
     ]
    }
   ],
   "source": [
    "proteins = ['e', 'm', 'n', 's']\n",
    "sim_results = [[], []]\n",
    "\n",
    "basedir = '/Users/davidwang/projects/sarscov2/data'\n",
    "for p in proteins:\n",
    "    alignfile = '{}/sars_cov_2_mers_cov_{}_prot.ali'.format(basedir, p)\n",
    "    result = seqsim(alignfile)\n",
    "    sim_results[0].append(result['similarity']*100)\n",
    "\n",
    "    basename = os.path.basename(alignfile)\n",
    "    print('{} Protein Length: {} Similarity: {:.1f}%'.format(basename, len(result['seq1']), result['similarity']*100))\n",
    "    \n",
    "for p in proteins:\n",
    "    alignfile = '{}/sars_cov_2_sars_cov_1_{}_prot.ali'.format(basedir, p)\n",
    "    result = seqsim(alignfile)\n",
    "    sim_results[1].append(result['similarity']*100)\n",
    "    \n",
    "    basename = os.path.basename(alignfile)\n",
    "    print('{} Protein Length: {} Similarity: {:.1f}%'.format(basename, len(result['seq1']), result['similarity']*100))"
   ]
  },
  {
   "cell_type": "code",
   "execution_count": 24,
   "metadata": {},
   "outputs": [
    {
     "data": {
      "image/png": "[encoded data removed]",
      "text/plain": [
       "<Figure size 432x288 with 1 Axes>"
      ]
     },
     "metadata": {
      "needs_background": "light"
     },
     "output_type": "display_data"
    }
   ],
   "source": [
    "plot_protein_sim(sim_results)"
   ]
  },
  {
   "cell_type": "code",
   "execution_count": 47,
   "metadata": {},
   "outputs": [],
   "source": [
    "import pandas as pd\n",
    "\n",
    "df = pd.read_csv('data/200938383919-sars_cov_vipr_epitopes.tsv', sep='\\t')"
   ]
  },
  {
   "cell_type": "code",
   "execution_count": 103,
   "metadata": {},
   "outputs": [
    {
     "data": {
      "text/plain": [
       "108"
      ]
     },
     "execution_count": 103,
     "metadata": {},
     "output_type": "execute_result"
    }
   ],
   "source": []
  },
  {
   "cell_type": "code",
   "execution_count": 106,
   "metadata": {},
   "outputs": [
    {
     "name": "stdout",
     "output_type": "stream",
     "text": [
      "1394\n",
      "Assay Type Category\n",
      "B Cell: 391\n",
      "T Cell: 257\n",
      "MHC Binding: 965\n"
     ]
    }
   ],
   "source": [
    "total = len(df))\n",
    "# Get the number or rows that have 'B Cell' in the 'Assay Type Category Column'\n",
    "print('Assay Type Category')\n",
    "print('B Cell: {}'.format(df['Assay Type Category'].apply(lambda x: 'B Cell' in x).sum()))\n",
    "print('T Cell: {}'.format(df['Assay Type Category'].apply(lambda x: 'T Cell' in x).sum()))\n",
    "print('MHC Binding: {}'.format(df['Assay Type Category'].apply(lambda x: 'MHC Binding' in x).sum()))"
   ]
  },
  {
   "cell_type": "code",
   "execution_count": 112,
   "metadata": {},
   "outputs": [
    {
     "data": {
      "text/html": [
       "<div>\n",
       "<style scoped>\n",
       "    .dataframe tbody tr th:only-of-type {\n",
       "        vertical-align: middle;\n",
       "    }\n",
       "\n",
       "    .dataframe tbody tr th {\n",
       "        vertical-align: top;\n",
       "    }\n",
       "\n",
       "    .dataframe thead th {\n",
       "        text-align: right;\n",
       "    }\n",
       "</style>\n",
       "<table border=\"1\" class=\"dataframe\">\n",
       "  <thead>\n",
       "    <tr style=\"text-align: right;\">\n",
       "      <th></th>\n",
       "      <th>IEDB ID</th>\n",
       "      <th>Epitope Sequence</th>\n",
       "      <th>Protein Names</th>\n",
       "      <th>Host</th>\n",
       "      <th>Assay Type Category</th>\n",
       "      <th>Assay Result</th>\n",
       "      <th>MHC Allele Name</th>\n",
       "      <th>MHC Allele Class</th>\n",
       "      <th>Method</th>\n",
       "      <th>Measurement</th>\n",
       "      <th>Unnamed: 10</th>\n",
       "    </tr>\n",
       "  </thead>\n",
       "  <tbody>\n",
       "    <tr>\n",
       "      <th>0</th>\n",
       "      <td>307</td>\n",
       "      <td>AALVSGTATAGWTFGAG</td>\n",
       "      <td>E2 glycoprotein precursor,spike glycoprotein,</td>\n",
       "      <td>Human,Mouse,Rabbit,Human,Mouse,Rabbit</td>\n",
       "      <td>B Cell,B Cell,B Cell,B Cell,B Cell,B Cell</td>\n",
       "      <td>Positive,Positive,Positive,Positive,Positive,P...</td>\n",
       "      <td>-N/A-,-N/A-,-N/A-,-N/A-,-N/A-,-N/A-</td>\n",
       "      <td>-N/A-,-N/A-,-N/A-,-N/A-,-N/A-,-N/A-</td>\n",
       "      <td>ELISA,ELISA,ELISA,ELISA,ELISA,ELISA</td>\n",
       "      <td>qualitative binding,qualitative binding,qualit...</td>\n",
       "      <td>NaN</td>\n",
       "    </tr>\n",
       "  </tbody>\n",
       "</table>\n",
       "</div>"
      ],
      "text/plain": [
       "   IEDB ID   Epitope Sequence                                  Protein Names  \\\n",
       "0      307  AALVSGTATAGWTFGAG  E2 glycoprotein precursor,spike glycoprotein,   \n",
       "\n",
       "                                    Host  \\\n",
       "0  Human,Mouse,Rabbit,Human,Mouse,Rabbit   \n",
       "\n",
       "                         Assay Type Category  \\\n",
       "0  B Cell,B Cell,B Cell,B Cell,B Cell,B Cell   \n",
       "\n",
       "                                        Assay Result  \\\n",
       "0  Positive,Positive,Positive,Positive,Positive,P...   \n",
       "\n",
       "                       MHC Allele Name                     MHC Allele Class  \\\n",
       "0  -N/A-,-N/A-,-N/A-,-N/A-,-N/A-,-N/A-  -N/A-,-N/A-,-N/A-,-N/A-,-N/A-,-N/A-   \n",
       "\n",
       "                                Method  \\\n",
       "0  ELISA,ELISA,ELISA,ELISA,ELISA,ELISA   \n",
       "\n",
       "                                         Measurement  Unnamed: 10  \n",
       "0  qualitative binding,qualitative binding,qualit...          NaN  "
      ]
     },
     "execution_count": 112,
     "metadata": {},
     "output_type": "execute_result"
    }
   ],
   "source": [
    "df.head(1)"
   ]
  },
  {
   "cell_type": "code",
   "execution_count": 176,
   "metadata": {},
   "outputs": [
    {
     "data": {
      "text/plain": [
       "{'3H-thymidine',\n",
       " '51 chromium',\n",
       " 'CFSE',\n",
       " 'ELISA',\n",
       " 'ELISPOT',\n",
       " 'ICS',\n",
       " 'antigen inhibition',\n",
       " 'bio-layer interferometry assay',\n",
       " 'bioassay',\n",
       " 'biological activity',\n",
       " 'cellular MHC/competitive/fluorescence',\n",
       " 'cellular MHC/direct/fluorescence',\n",
       " 'cross blocking',\n",
       " 'electron microscopy',\n",
       " 'flow cytometry',\n",
       " 'immuno staining',\n",
       " 'immunohistochemistry',\n",
       " 'in vitro assay',\n",
       " 'in vivo assay',\n",
       " 'in vivo skin test',\n",
       " 'microarray',\n",
       " 'multimer/tetramer',\n",
       " 'purified MHC',\n",
       " 'purified MHC/competitive/fluorescence',\n",
       " 'purified MHC/competitive/radioactivity',\n",
       " 'purified MHC/direct/fluorescence',\n",
       " 'purified MHC/direct/radioactivity',\n",
       " 'small-angle scattering assay',\n",
       " 'surface plasmon resonance (SPR)',\n",
       " 'western blot',\n",
       " 'x-ray crystallography'}"
      ]
     },
     "execution_count": 176,
     "metadata": {},
     "output_type": "execute_result"
    }
   ],
   "source": [
    "seen = set()\n",
    "\n",
    "for row in df.itertuples():\n",
    "    measurements = row[9].split(',')\n",
    "    for m in measurements:\n",
    "        if m not in seen:\n",
    "            seen.add(m)\n",
    "\n",
    "seen"
   ]
  },
  {
   "cell_type": "code",
   "execution_count": 170,
   "metadata": {},
   "outputs": [
    {
     "data": {
      "text/plain": [
       "{'3H-thymidine',\n",
       " '51 chromium',\n",
       " 'CFSE',\n",
       " 'ELISA',\n",
       " 'ELISPOT',\n",
       " 'ICS',\n",
       " 'antigen inhibition',\n",
       " 'bio-layer interferometry assay',\n",
       " 'bioassay',\n",
       " 'biological activity',\n",
       " 'cellular MHC/competitive/fluorescence',\n",
       " 'cellular MHC/direct/fluorescence',\n",
       " 'cross blocking',\n",
       " 'electron microscopy',\n",
       " 'flow cytometry',\n",
       " 'immuno staining',\n",
       " 'immunohistochemistry',\n",
       " 'in vitro assay',\n",
       " 'in vivo assay',\n",
       " 'in vivo skin test',\n",
       " 'microarray',\n",
       " 'multimer/tetramer',\n",
       " 'purified MHC',\n",
       " 'purified MHC/competitive/fluorescence',\n",
       " 'purified MHC/competitive/radioactivity',\n",
       " 'purified MHC/direct/fluorescence',\n",
       " 'purified MHC/direct/radioactivity',\n",
       " 'small-angle scattering assay',\n",
       " 'surface plasmon resonance (SPR)',\n",
       " 'western blot',\n",
       " 'x-ray crystallography'}"
      ]
     },
     "execution_count": 170,
     "metadata": {},
     "output_type": "execute_result"
    }
   ],
   "source": []
  },
  {
   "cell_type": "code",
   "execution_count": 113,
   "metadata": {},
   "outputs": [
    {
     "data": {
      "text/html": [
       "<div>\n",
       "<style scoped>\n",
       "    .dataframe tbody tr th:only-of-type {\n",
       "        vertical-align: middle;\n",
       "    }\n",
       "\n",
       "    .dataframe tbody tr th {\n",
       "        vertical-align: top;\n",
       "    }\n",
       "\n",
       "    .dataframe thead th {\n",
       "        text-align: right;\n",
       "    }\n",
       "</style>\n",
       "<table border=\"1\" class=\"dataframe\">\n",
       "  <thead>\n",
       "    <tr style=\"text-align: right;\">\n",
       "      <th></th>\n",
       "      <th>Host</th>\n",
       "      <th>Assay Type Category</th>\n",
       "      <th>Assay Result</th>\n",
       "    </tr>\n",
       "  </thead>\n",
       "  <tbody>\n",
       "    <tr>\n",
       "      <th>0</th>\n",
       "      <td>Human,Mouse,Rabbit,Human,Mouse,Rabbit</td>\n",
       "      <td>B Cell,B Cell,B Cell,B Cell,B Cell,B Cell</td>\n",
       "      <td>Positive,Positive,Positive,Positive,Positive,P...</td>\n",
       "    </tr>\n",
       "  </tbody>\n",
       "</table>\n",
       "</div>"
      ],
      "text/plain": [
       "                                    Host  \\\n",
       "0  Human,Mouse,Rabbit,Human,Mouse,Rabbit   \n",
       "\n",
       "                         Assay Type Category  \\\n",
       "0  B Cell,B Cell,B Cell,B Cell,B Cell,B Cell   \n",
       "\n",
       "                                        Assay Result  \n",
       "0  Positive,Positive,Positive,Positive,Positive,P...  "
      ]
     },
     "execution_count": 113,
     "metadata": {},
     "output_type": "execute_result"
    }
   ],
   "source": [
    "df[['Host', 'Assay Type Category', 'Assay Result']].head(1)"
   ]
  },
  {
   "cell_type": "code",
   "execution_count": null,
   "metadata": {},
   "outputs": [],
   "source": [
    "df[['Assay Result']].filter(lambda x: 'Negative')"
   ]
  },
  {
   "cell_type": "code",
   "execution_count": 177,
   "metadata": {},
   "outputs": [],
   "source": [
    "# Using 'Positive in result[i]'\n",
    "# {'B Cell': 2830, 'T Cell': 306, 'MHC Binding': 22938}\n",
    "\n",
    "# Using 'Positive == result[i]'\n",
    "# {'B Cell': 2756, 'T Cell': 288, 'MHC Binding': 1548}\n",
    "\n",
    "# Using 'Positive == result[i] breaking after first Positive'\n",
    "# {'B Cell': 2756, 'T Cell': 288, 'MHC Binding': 1548}\n",
    "\n",
    "assay_dict = {\n",
    "    'B Cell': 0,\n",
    "    'T Cell': 0,\n",
    "    'MHC Binding' : 0,\n",
    "}\n",
    "\n",
    "for row in df.itertuples():\n",
    "    human_indicies = [i for i, x in enumerate(row[4].split(',')) if x == 'Human'] # Hosts\n",
    "    assay_type = row[5].split(',')[0] # Assay Types\n",
    "    result = row[6].split(',') # Assay Results\n",
    "    methods = row[9].split(',') # Methods\n",
    "    \n",
    "    for i, m in zip(human_indicies, methods):\n",
    "        if 'Positive' == result[i] and m in [\n",
    "             'ELISA',\n",
    "             'ELISPOT',\n",
    "             'ICS',\n",
    "             'cellular MHC/competitive/fluorescence',\n",
    "             'cellular MHC/direct/fluorescence',\n",
    "             'purified MHC',\n",
    "             'purified MHC/competitive/fluorescence',\n",
    "             'purified MHC/competitive/radioactivity',\n",
    "             'purified MHC/direct/fluorescence',\n",
    "             'purified MHC/direct/radioactivity',\n",
    "        ]:\n",
    "            assay_dict[assay_type] += 1"
   ]
  },
  {
   "cell_type": "code",
   "execution_count": 149,
   "metadata": {},
   "outputs": [
    {
     "data": {
      "text/plain": [
       "{'B Cell': 2830, 'T Cell': 306, 'MHC Binding': 22938}"
      ]
     },
     "execution_count": 149,
     "metadata": {},
     "output_type": "execute_result"
    }
   ],
   "source": [
    "assay_dict"
   ]
  },
  {
   "cell_type": "code",
   "execution_count": 151,
   "metadata": {},
   "outputs": [
    {
     "data": {
      "text/plain": [
       "{'B Cell': 2756, 'T Cell': 288, 'MHC Binding': 1548}"
      ]
     },
     "execution_count": 151,
     "metadata": {},
     "output_type": "execute_result"
    }
   ],
   "source": [
    "assay_dict"
   ]
  },
  {
   "cell_type": "code",
   "execution_count": 153,
   "metadata": {},
   "outputs": [
    {
     "data": {
      "text/plain": [
       "{'B Cell': 331, 'T Cell': 43, 'MHC Binding': 100}"
      ]
     },
     "execution_count": 153,
     "metadata": {},
     "output_type": "execute_result"
    }
   ],
   "source": [
    "assay_dict"
   ]
  },
  {
   "cell_type": "code",
   "execution_count": 178,
   "metadata": {},
   "outputs": [
    {
     "data": {
      "text/plain": [
       "{'B Cell': 1437, 'T Cell': 188, 'MHC Binding': 1355}"
      ]
     },
     "execution_count": 178,
     "metadata": {},
     "output_type": "execute_result"
    }
   ],
   "source": [
    "assay_dict"
   ]
  },
  {
   "cell_type": "code",
   "execution_count": 36,
   "metadata": {},
   "outputs": [
    {
     "ename": "NameError",
     "evalue": "name 'cnuc' is not defined",
     "output_type": "error",
     "traceback": [
      "\u001b[0;31m---------------------------------------------------------------------------\u001b[0m",
      "\u001b[0;31mNameError\u001b[0m                                 Traceback (most recent call last)",
      "\u001b[0;32m<ipython-input-36-ca69689f7bf5>\u001b[0m in \u001b[0;36m<module>\u001b[0;34m\u001b[0m\n\u001b[0;32m----> 1\u001b[0;31m \u001b[0mrna\u001b[0m \u001b[0;34m=\u001b[0m \u001b[0mcdna_to_rna\u001b[0m\u001b[0;34m(\u001b[0m\u001b[0mcnuc\u001b[0m\u001b[0;34m.\u001b[0m\u001b[0mseq\u001b[0m\u001b[0;34m)\u001b[0m\u001b[0;34m\u001b[0m\u001b[0;34m\u001b[0m\u001b[0m\n\u001b[0m",
      "\u001b[0;31mNameError\u001b[0m: name 'cnuc' is not defined"
     ]
    }
   ],
   "source": [
    "rna = cdna_to_rna(cnuc.seq)"
   ]
  },
  {
   "cell_type": "code",
   "execution_count": 1,
   "metadata": {},
   "outputs": [],
   "source": [
    "seq_ids = [\n",
    " 'YP_005352862.1',\n",
    " 'AMN91620.1',\n",
    " 'YP_002308478.1',\n",
    " 'P0C6Y5.1',\n",
    " 'APD51497.1',\n",
    " 'AVA26872.1',\n",
    " 'AKJ21970.1',\n",
    " 'YP_001718610.1',\n",
    " 'AHB63507.1',\n",
    " 'AAS00078.1',\n",
    " 'ACV87277.1',\n",
    " 'YP_009555238.1',\n",
    " 'YP_209229.2',\n",
    " 'ARB07596.1',\n",
    " 'ATG84853.1',\n",
    " 'ABN10847.1',\n",
    " 'AAP33696.1',\n",
    " 'AVP25405.1',\n",
    "]"
   ]
  },
  {
   "cell_type": "code",
   "execution_count": 2,
   "metadata": {},
   "outputs": [],
   "source": [
    "from Bio import Entrez\n",
    "from Bio import SeqIO\n",
    "Entrez.email = 'something@something.com'\n",
    "\n",
    "seqs = {}\n",
    "for s_id in seq_ids:\n",
    "    handle = Entrez.efetch(db='protein', id=s_id, rettype='gb', retmode='text')\n",
    "    seq = SeqIO.read(handle, 'genbank')\n",
    "    seqs[s_id] = seq"
   ]
  },
  {
   "cell_type": "code",
   "execution_count": 4,
   "metadata": {},
   "outputs": [
    {
     "data": {
      "text/plain": [
       "SeqRecord(seq=Seq('MGSKQVDHTCLTIPPNPSKTLALFITTVAAQEGKTFKTVDDVKTISKFNIRRGN...VLF', IUPACProtein()), id='YP_005352862.1', name='YP_005352862', description='orf1ab gene product [Night heron coronavirus HKU19]', dbxrefs=['BioProject:PRJNA485481'])"
      ]
     },
     "execution_count": 4,
     "metadata": {},
     "output_type": "execute_result"
    }
   ],
   "source": []
  },
  {
   "cell_type": "code",
   "execution_count": 155,
   "metadata": {},
   "outputs": [
    {
     "data": {
      "text/plain": [
       "18"
      ]
     },
     "execution_count": 155,
     "metadata": {},
     "output_type": "execute_result"
    }
   ],
   "source": [
    "SeqIO.write(seqs, 'all.faa', 'fasta')"
   ]
  },
  {
   "cell_type": "code",
   "execution_count": 181,
   "metadata": {},
   "outputs": [],
   "source": [
    "with open('clustalo.clustal_num') as f:\n",
    "    data = f.readlines()"
   ]
  },
  {
   "cell_type": "code",
   "execution_count": 186,
   "metadata": {},
   "outputs": [
    {
     "data": {
      "text/plain": [
       "239485"
      ]
     },
     "execution_count": 186,
     "metadata": {},
     "output_type": "execute_result"
    }
   ],
   "source": [
    "\"\"\"\n",
    "Got the following error when using consurf:\n",
    "\n",
    "\"The uploaded MSA file, which appears to be in clustalw format, contains non-standard characters: \"J\". \n",
    "To fix the format please replace all non-standard characters with standard characters\n",
    "(gaps : \"-\" Amino Acids : \"A\" , \"C\" , \"D\" .. \"Y\") and resubmit your query.\"\n",
    "\n",
    "This is because we have a 'J' amino acid in on line 998 in our clustalo.clustal_num multi alignment file\n",
    "\n",
    "'ATG84853.1          GTPNEKLVTTSTAPDFVAFNVFQGIETAVGHYVHARLKGGJILKFDSGTVSKTSDWKCKV\t1788' \n",
    "\n",
    "Apparently a 'J' is supposed to indicate either 'I' or 'L'.\n",
    "We will replace with an 'L' in this case because ABN10847.1 and AVP25405.1 have 'L's in that position\n",
    "which is the majority.\n",
    "\"\"\"\n",
    "\n",
    "# Replace ambiguous amino acids with the majority e.g. J -> L because J can be either I or L.\n",
    "# def replace_ambiguous_aa(rows):\n",
    "#     for i, r in enumerate(rows):\n",
    "#         cols = r.split()\n",
    "#         align = cols[1] if len(cols) > 2 else ''\n",
    "#         if 'J' in align:\n",
    "#             row = cols[1].replace('J', 'L')\n",
    "            \n",
    "# replace_ambiguous_aa(data)\n",
    "# open('clustalo_unique_aa.clustal_num', 'w').write(''.join(data))"
   ]
  },
  {
   "cell_type": "code",
   "execution_count": 37,
   "metadata": {
    "collapsed": true,
    "jupyter": {
     "outputs_hidden": true
    }
   },
   "outputs": [
    {
     "name": "stdout",
     "output_type": "stream",
     "text": [
      "['EPI_ISL_402123', 'EPI_ISL_406798', 'EPI_ISL_402119', 'EPI_ISL_402128', 'EPI_ISL_402129', 'EPI_ISL_402130', 'EPI_ISL_403930', 'EPI_ISL_402121', 'EPI_ISL_402132', 'EPI_ISL_412898', 'EPI_ISL_412899', 'EPI_ISL_402124', 'EPI_ISL_403931', 'EPI_ISL_403929', 'EPI_ISL_402127', 'EPI_ISL_402125', 'EPI_ISL_402120', 'EPI_ISL_406800', 'EPI_ISL_408514', 'EPI_ISL_408515', 'EPI_ISL_403928', 'EPI_ISL_406716', 'EPI_ISL_406717', 'EPI_ISL_406801', 'EPI_ISL_411957', 'EPI_ISL_412459', 'EPI_ISL_403962', 'EPI_ISL_406030', 'EPI_ISL_405839', 'EPI_ISL_408486', 'EPI_ISL_410301', 'EPI_ISL_406593', 'EPI_ISL_403963', 'EPI_ISL_403932', 'EPI_ISL_403933', 'EPI_ISL_403934', 'EPI_ISL_403935', 'EPI_ISL_408484', 'EPI_ISL_404227', 'EPI_ISL_406594', 'EPI_ISL_406595', 'EPI_ISL_403936', 'EPI_ISL_404228', 'EPI_ISL_404228', 'EPI_ISL_412978', 'EPI_ISL_408480', 'EPI_ISL_403937', 'EPI_ISL_412979', 'EPI_ISL_412980', 'EPI_ISL_412981', 'EPI_ISL_408481', 'EPI_ISL_408485', 'EPI_ISL_404895', 'EPI_ISL_407313', 'EPI_ISL_408482', 'EPI_ISL_408488', 'EPI_ISL_406970', 'EPI_ISL_411060', 'EPI_ISL_408478', 'EPI_ISL_411066', 'EPI_ISL_412028', 'EPI_ISL_406036', 'EPI_ISL_406223', 'EPI_ISL_406531', 'EPI_ISL_406533', 'EPI_ISL_406534', 'EPI_ISL_406535', 'EPI_ISL_406536', 'EPI_ISL_410532', 'EPI_ISL_410720', 'EPI_ISL_411950', 'EPI_ISL_413015', 'EPI_ISL_406034', 'EPI_ISL_406538', 'EPI_ISL_406597', 'EPI_ISL_406596', 'EPI_ISL_406973', 'EPI_ISL_406031', 'EPI_ISL_408479', 'EPI_ISL_411926', 'EPI_ISL_411953', 'EPI_ISL_411952', 'EPI_ISL_408668', 'EPI_ISL_407893', 'EPI_ISL_410531', 'EPI_ISL_407215', 'EPI_ISL_411915', 'EPI_ISL_407193', 'EPI_ISL_413014', 'EPI_ISL_406844', 'EPI_ISL_407214', 'EPI_ISL_407987', 'EPI_ISL_407084', 'EPI_ISL_408977', 'EPI_ISL_410713', 'EPI_ISL_411902', 'EPI_ISL_410044', 'EPI_ISL_407894', 'EPI_ISL_411219', 'EPI_ISL_411220', 'EPI_ISL_411927', 'EPI_ISL_406862', 'EPI_ISL_410045', 'EPI_ISL_410545', 'EPI_ISL_410984', 'EPI_ISL_412967', 'EPI_ISL_412974', 'EPI_ISL_407073', 'EPI_ISL_407071', 'EPI_ISL_408010', 'EPI_ISL_408009', 'EPI_ISL_408008', 'EPI_ISL_408430', 'EPI_ISL_408431', 'EPI_ISL_408665', 'EPI_ISL_408669', 'EPI_ISL_409067', 'EPI_ISL_407896', 'EPI_ISL_412029', 'EPI_ISL_412869', 'EPI_ISL_412870', 'EPI_ISL_410546', 'EPI_ISL_412871', 'EPI_ISL_408666', 'EPI_ISL_408667', 'EPI_ISL_408670', 'EPI_ISL_412030', 'EPI_ISL_412872', 'EPI_ISL_407988', 'EPI_ISL_410719', 'EPI_ISL_411218', 'EPI_ISL_410714', 'EPI_ISL_407976', 'EPI_ISL_410716', 'EPI_ISL_410715', 'EPI_ISL_410717', 'EPI_ISL_410718', 'EPI_ISL_412966', 'EPI_ISL_410218', 'EPI_ISL_410536', 'EPI_ISL_411954', 'EPI_ISL_412873', 'EPI_ISL_411951', 'EPI_ISL_412982', 'EPI_ISL_410537', 'EPI_ISL_412116', 'EPI_ISL_412116', 'EPI_ISL_411955', 'EPI_ISL_412968', 'EPI_ISL_412969', 'EPI_ISL_411956', 'EPI_ISL_412973', 'EPI_ISL_412026', 'EPI_ISL_412862', 'EPI_ISL_412970', 'EPI_ISL_412912', 'EPI_ISL_412972', 'EPI_ISL_412975', 'EPI_ISL_413016', 'EPI_ISL_411929']\n"
     ]
    }
   ],
   "source": [
    "'''\n",
    "Get Accession IDs for Sars-Cov-2 Genomes https://www.pnas.org/content/117/17/9241?cct=2302\n",
    "Paper: Phylogenetic network analysis of SARS-CoV-2 genomes\n",
    "'''\n",
    "\n",
    "import csv\n",
    "\n",
    "ids = []\n",
    "with open('forster_data/2b Cluster assignments-Table 1.csv') as file:\n",
    "    reader = csv.reader(file)\n",
    "    \n",
    "    for i, row in enumerate(reader):\n",
    "        if i > 3:\n",
    "            ids.append(row[3])\n",
    "            \n",
    "print(ids)"
   ]
  },
  {
   "cell_type": "code",
   "execution_count": 29,
   "metadata": {},
   "outputs": [],
   "source": [
    "seqs = SeqIO.[('gisaid/msa_0727/msa_0727.fasta', 'fasta')"
   ]
  }
 ],
 "metadata": {
  "kernelspec": {
   "display_name": "Python 3",
   "language": "python",
   "name": "python3"
  },
  "language_info": {
   "codemirror_mode": {
    "name": "ipython",
    "version": 3
   },
   "file_extension": ".py",
   "mimetype": "text/x-python",
   "name": "python",
   "nbconvert_exporter": "python",
   "pygments_lexer": "ipython3",
   "version": "3.7.7"
  }
 },
 "nbformat": 4,
 "nbformat_minor": 4
}
