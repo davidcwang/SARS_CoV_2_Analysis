{
 "cells": [
  {
   "cell_type": "code",
   "execution_count": 30,
   "metadata": {},
   "outputs": [],
   "source": [
    "from Bio.Seq import Seq\n",
    "from Bio import SeqIO"
   ]
  },
  {
   "cell_type": "code",
   "execution_count": 36,
   "metadata": {},
   "outputs": [
    {
     "name": "stdout",
     "output_type": "stream",
     "text": [
      "29903\n",
      "9967\n",
      "955\n"
     ]
    }
   ],
   "source": [
    "cnuc = SeqIO.read('NC_045512.2.fna', 'fasta')\n",
    "caa = cnuc.translate()\n",
    "\n",
    "naa = SeqIO.read('6NUR_A.fasta.txt', 'fasta')"
   ]
  },
  {
   "cell_type": "code",
   "execution_count": 38,
   "metadata": {},
   "outputs": [
    {
     "ename": "ValueError",
     "evalue": "Sequences must all be the same length",
     "output_type": "error",
     "traceback": [
      "\u001b[0;31m---------------------------------------------------------------------------\u001b[0m",
      "\u001b[0;31mValueError\u001b[0m                                Traceback (most recent call last)",
      "\u001b[0;32m<ipython-input-38-08f647a08683>\u001b[0m in \u001b[0;36m<module>\u001b[0;34m\u001b[0m\n\u001b[1;32m      4\u001b[0m     [\n\u001b[1;32m      5\u001b[0m         \u001b[0mcaa\u001b[0m\u001b[0;34m,\u001b[0m\u001b[0;34m\u001b[0m\u001b[0;34m\u001b[0m\u001b[0m\n\u001b[0;32m----> 6\u001b[0;31m         \u001b[0mnaa\u001b[0m\u001b[0;34m,\u001b[0m\u001b[0;34m\u001b[0m\u001b[0;34m\u001b[0m\u001b[0m\n\u001b[0m\u001b[1;32m      7\u001b[0m     ]\n\u001b[1;32m      8\u001b[0m )\n",
      "\u001b[0;32m/usr/local/lib/python3.7/site-packages/Bio/Align/__init__.py\u001b[0m in \u001b[0;36m__init__\u001b[0;34m(self, records, alphabet, annotations, column_annotations)\u001b[0m\n\u001b[1;32m    168\u001b[0m         \u001b[0mself\u001b[0m\u001b[0;34m.\u001b[0m\u001b[0m_records\u001b[0m \u001b[0;34m=\u001b[0m \u001b[0;34m[\u001b[0m\u001b[0;34m]\u001b[0m\u001b[0;34m\u001b[0m\u001b[0;34m\u001b[0m\u001b[0m\n\u001b[1;32m    169\u001b[0m         \u001b[0;32mif\u001b[0m \u001b[0mrecords\u001b[0m\u001b[0;34m:\u001b[0m\u001b[0;34m\u001b[0m\u001b[0;34m\u001b[0m\u001b[0m\n\u001b[0;32m--> 170\u001b[0;31m             \u001b[0mself\u001b[0m\u001b[0;34m.\u001b[0m\u001b[0mextend\u001b[0m\u001b[0;34m(\u001b[0m\u001b[0mrecords\u001b[0m\u001b[0;34m)\u001b[0m\u001b[0;34m\u001b[0m\u001b[0;34m\u001b[0m\u001b[0m\n\u001b[0m\u001b[1;32m    171\u001b[0m             \u001b[0;32mif\u001b[0m \u001b[0malphabet\u001b[0m \u001b[0;32mis\u001b[0m \u001b[0;32mNone\u001b[0m\u001b[0;34m:\u001b[0m\u001b[0;34m\u001b[0m\u001b[0;34m\u001b[0m\u001b[0m\n\u001b[1;32m    172\u001b[0m                 \u001b[0;31m# No alphabet was given, take a consensus alphabet\u001b[0m\u001b[0;34m\u001b[0m\u001b[0;34m\u001b[0m\u001b[0;34m\u001b[0m\u001b[0m\n",
      "\u001b[0;32m/usr/local/lib/python3.7/site-packages/Bio/Align/__init__.py\u001b[0m in \u001b[0;36mextend\u001b[0;34m(self, records)\u001b[0m\n\u001b[1;32m    543\u001b[0m \u001b[0;34m\u001b[0m\u001b[0m\n\u001b[1;32m    544\u001b[0m         \u001b[0;32mfor\u001b[0m \u001b[0mrec\u001b[0m \u001b[0;32min\u001b[0m \u001b[0mrecords\u001b[0m\u001b[0;34m:\u001b[0m\u001b[0;34m\u001b[0m\u001b[0;34m\u001b[0m\u001b[0m\n\u001b[0;32m--> 545\u001b[0;31m             \u001b[0mself\u001b[0m\u001b[0;34m.\u001b[0m\u001b[0m_append\u001b[0m\u001b[0;34m(\u001b[0m\u001b[0mrec\u001b[0m\u001b[0;34m,\u001b[0m \u001b[0mexpected_length\u001b[0m\u001b[0;34m)\u001b[0m\u001b[0;34m\u001b[0m\u001b[0;34m\u001b[0m\u001b[0m\n\u001b[0m\u001b[1;32m    546\u001b[0m \u001b[0;34m\u001b[0m\u001b[0m\n\u001b[1;32m    547\u001b[0m     \u001b[0;32mdef\u001b[0m \u001b[0mappend\u001b[0m\u001b[0;34m(\u001b[0m\u001b[0mself\u001b[0m\u001b[0;34m,\u001b[0m \u001b[0mrecord\u001b[0m\u001b[0;34m)\u001b[0m\u001b[0;34m:\u001b[0m\u001b[0;34m\u001b[0m\u001b[0;34m\u001b[0m\u001b[0m\n",
      "\u001b[0;32m/usr/local/lib/python3.7/site-packages/Bio/Align/__init__.py\u001b[0m in \u001b[0;36m_append\u001b[0;34m(self, record, expected_length)\u001b[0m\n\u001b[1;32m    606\u001b[0m             \u001b[0;31m# raise ValueError(\"New sequence is not of length %i\"\u001b[0m\u001b[0;34m\u001b[0m\u001b[0;34m\u001b[0m\u001b[0;34m\u001b[0m\u001b[0m\n\u001b[1;32m    607\u001b[0m             \u001b[0;31m#                  % self.get_alignment_length())\u001b[0m\u001b[0;34m\u001b[0m\u001b[0;34m\u001b[0m\u001b[0;34m\u001b[0m\u001b[0m\n\u001b[0;32m--> 608\u001b[0;31m             \u001b[0;32mraise\u001b[0m \u001b[0mValueError\u001b[0m\u001b[0;34m(\u001b[0m\u001b[0;34m\"Sequences must all be the same length\"\u001b[0m\u001b[0;34m)\u001b[0m\u001b[0;34m\u001b[0m\u001b[0;34m\u001b[0m\u001b[0m\n\u001b[0m\u001b[1;32m    609\u001b[0m \u001b[0;34m\u001b[0m\u001b[0m\n\u001b[1;32m    610\u001b[0m         \u001b[0;31m# Using not self.alphabet.contains(record.seq.alphabet) needs fixing\u001b[0m\u001b[0;34m\u001b[0m\u001b[0;34m\u001b[0m\u001b[0;34m\u001b[0m\u001b[0m\n",
      "\u001b[0;31mValueError\u001b[0m: Sequences must all be the same length"
     ]
    }
   ],
   "source": [
    "from Bio.Align import MultipleSeqAlignment\n",
    "\n",
    "align = MultipleSeqAlignment(\n",
    "    [\n",
    "        caa,\n",
    "        naa,\n",
    "    ]\n",
    ")"
   ]
  },
  {
   "cell_type": "code",
   "execution_count": 151,
   "metadata": {},
   "outputs": [],
   "source": [
    "seq_ids = [\n",
    " 'YP_005352862.1',\n",
    " 'AMN91620.1',\n",
    " 'YP_002308478.1',\n",
    " 'P0C6Y5.1',\n",
    " 'APD51497.1',\n",
    " 'AVA26872.1',\n",
    " 'AKJ21970.1',\n",
    " 'YP_001718610.1',\n",
    " 'AHB63507.1',\n",
    " 'AAS00078.1',\n",
    " 'ACV87277.1',\n",
    " 'YP_009555238.1',\n",
    " 'YP_209229.2',\n",
    " 'ARB07596.1',\n",
    " 'ATG84853.1',\n",
    " 'ABN10847.1',\n",
    " 'AAP33696.1',\n",
    " 'AVP25405.1',\n",
    "]"
   ]
  },
  {
   "cell_type": "code",
   "execution_count": 152,
   "metadata": {},
   "outputs": [],
   "source": [
    "from Bio import Entrez\n",
    "from Bio import SeqIO\n",
    "Entrez.email = 'something@something.com'\n",
    "\n",
    "seqs = []\n",
    "for s_id in seq_ids:\n",
    "    handle = Entrez.efetch(db='protein', id=s_id, rettype='gb', retmode='text')\n",
    "    seq = SeqIO.read(handle, 'genbank')\n",
    "    seqs.append(seq)"
   ]
  },
  {
   "cell_type": "code",
   "execution_count": 155,
   "metadata": {},
   "outputs": [
    {
     "data": {
      "text/plain": [
       "18"
      ]
     },
     "execution_count": 155,
     "metadata": {},
     "output_type": "execute_result"
    }
   ],
   "source": [
    "SeqIO.write(seqs, 'all.faa', 'fasta')"
   ]
  },
  {
   "cell_type": "code",
   "execution_count": 181,
   "metadata": {},
   "outputs": [],
   "source": [
    "with open('clustalo.clustal_num') as f:\n",
    "    data = f.readlines()"
   ]
  },
  {
   "cell_type": "code",
   "execution_count": 186,
   "metadata": {},
   "outputs": [
    {
     "data": {
      "text/plain": [
       "239485"
      ]
     },
     "execution_count": 186,
     "metadata": {},
     "output_type": "execute_result"
    }
   ],
   "source": [
    "\"\"\"\n",
    "Got the following error when using consurf:\n",
    "\n",
    "\"The uploaded MSA file, which appears to be in clustalw format, contains non-standard characters: \"J\". \n",
    "To fix the format please replace all non-standard characters with standard characters\n",
    "(gaps : \"-\" Amino Acids : \"A\" , \"C\" , \"D\" .. \"Y\") and resubmit your query.\"\n",
    "\n",
    "This is because we have a 'J' amino acid in on line 998 in our clustalo.clustal_num multi alignment file\n",
    "\n",
    "'ATG84853.1          GTPNEKLVTTSTAPDFVAFNVFQGIETAVGHYVHARLKGGJILKFDSGTVSKTSDWKCKV\t1788' \n",
    "\n",
    "Apparently a 'J' is supposed to indicate either 'I' or 'L'.\n",
    "We will replace with an 'L' in this case because ABN10847.1 and AVP25405.1 have 'L's in that position\n",
    "which is the majority.\n",
    "\"\"\"\n",
    "\n",
    "# Replace ambiguous amino acids with the majority e.g. J -> L because J can be either I or L.\n",
    "# def replace_ambiguous_aa(rows):\n",
    "#     for i, r in enumerate(rows):\n",
    "#         cols = r.split()\n",
    "#         align = cols[1] if len(cols) > 2 else ''\n",
    "#         if 'J' in align:\n",
    "#             row = cols[1].replace('J', 'L')\n",
    "            \n",
    "# replace_ambiguous_aa(data)\n",
    "# open('clustalo_unique_aa.clustal_num', 'w').write(''.join(data))"
   ]
  }
 ],
 "metadata": {
  "kernelspec": {
   "display_name": "Python 3",
   "language": "python",
   "name": "python3"
  },
  "language_info": {
   "codemirror_mode": {
    "name": "ipython",
    "version": 3
   },
   "file_extension": ".py",
   "mimetype": "text/x-python",
   "name": "python",
   "nbconvert_exporter": "python",
   "pygments_lexer": "ipython3",
   "version": "3.7.7"
  }
 },
 "nbformat": 4,
 "nbformat_minor": 4
}
